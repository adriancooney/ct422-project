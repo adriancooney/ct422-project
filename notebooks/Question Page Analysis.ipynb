{
 "cells": [
  {
   "cell_type": "markdown",
   "metadata": {},
   "source": [
    "# Question Page Analysis"
   ]
  },
  {
   "cell_type": "code",
   "execution_count": 1,
   "metadata": {
    "collapsed": false
   },
   "outputs": [
    {
     "name": "stdout",
     "output_type": "stream",
     "text": [
      "\n",
      "----- Page 1 of 2014_2015_CH140_1_1_5.PDF -----\n",
      "\n",
      "Section A  1.  Answer each of the following [by indicating the correct answer in your answer book]: (i) A sample of matter that can be decomposed into three different elements a. must be a solution. b. must be a compound. c. must be a heterogeneous mixture. d. must be a homogeneous mixture. e. could be any of the preceding four answers.   [2 Marks]   (ii) Each response below lists an ion by name and by chemical symbol or formula. Also each ion is classified as monatomic or polyatomic and as a cation or anion. Which response contains an error? a. hydroxide OH- monatomic anion b. carbonate CO32- polyatomic anion c. ammonium NH4+ polyatomic cation d. magnesium Mg2+ monatomic cation e. sulfite SO32- polyatomic anion     [2 Marks]  (iii) What element has the electron configuration [Kr] 4d5 5s1? (a) W  (b) Ru (c) Mo  (d) Pm        [2 Marks]           (iv) A compound is known to contain only carbon, hydrogen, and oxygen. If the complete combustion of a 0.150 g sample of this compound produces 0.225 g of CO2 and 0.0614 g of H2O, what is the empirical formula of this compound? a. C3H4  b. CH4O  c. C3HO3  d. C3H4O3  e. C5H7O5        [2 Marks]   (v) Which combination of name and formula below is correct? (a) sodium acetate, CH3COONa (b) lithium oxide, LiO2 (c) iron(II) chloride, FeCl3  (d) potassium hydrogen sulfate, K2SO4    [2 Marks]   (vi) Maleic acid, which is used to manufacture artificial resins, has the empirical formula CHO.  Its molar mass is 116.1 g/mol. What is its molecular formula? (a) CHO  (b) C2H2O2 (c) C3H3O3  (d) C4H4O4        [2 Marks] \f",
      "\n",
      "\n",
      "----- Page 1 of 2014_2015_CT420_1_1_2.PDF -----\n",
      "\n",
      "2  Section A   Q1  (i)  Explain using examples why many hard RTS use a cyclic executive   approach to scheduling whereas many soft RTS utilise a real-time    operating system.           [10]   (ii)  Using Antilock Braking Systems (ABS) as an example, distinguish   between the sample rate and response time of a RTS.             [10]   (iii)  Quality of Experience (QoE) is a related though much broader concept   than Quality of Service (QoS). Distinguish between the two terms     using MMOG (Massively Multiplayer Online Gaming) as an example.                       [10]   (iv) Distinguish between narrowband (NB), wideband (WB), and super-  wideband (SWB) voice codec’s, outlining the        advantages/disadvantages of each.          [10]                    \f",
      "\n",
      "\n",
      "----- Page 1 of 2014_2015_CT422_1_1_5.PDF -----\n",
      "\n",
      " Q.1.  (a) What is meant by collaborative filtering? Illustrate, with a suitable example, how a collaborative filtering approach could be used to make a prediction for a given user for a given item. (10)  (b) Identify the main limitations of a collaborative filtering system and suggest mechanisms to overcome these limitations. (10)   (c) Discuss metrics to evaluate the quality of a collaborative filtering system and discuss the suitability of these metrics. (5)      Q.2.  (a) The performance of an Information Retrieval system is dependent on the quality of the term-weighting scheme employed. With reference to any well- known weighting scheme, discuss the main factors considered in assigning a weight to a term in a document. (9)  (b) Explicit user feedback regarding the quality of the returned answer set is often used to modify the user’s query to improve the performance of the retrieval system. Assuming a vector space representation, show how you could modify a user’s query when the user can give feedback on returned documents with a value in the range 1 to 5, 1 indicating not relevant at all and 5 indicating very relevant. (7)  (c) Users’ queries can be extended by identifying related terms and adding them to the query. Suggest mechanisms to identify related terms. (9)   Q.3.  (a) Discuss applications in information retrieval where clustering algorithms can be of benefit. (9)  (b) Given a set of documents (represented as term-dimensional vectors), outline any algorithm of your choice to cluster the documents together. Discuss the limitations of your approach. (7)  (c) Discuss, briefly, methods that allow the prediction of query difficulty, i.e., any approaches that allow us to identify queries that may be difficult to satisfy correctly. (9) \f",
      "\n"
     ]
    }
   ],
   "source": [
    "from os import listdir\n",
    "from os.path import isfile, join\n",
    "import slate\n",
    "\n",
    "DATA_DIR = \"../data\"\n",
    "\n",
    "# Grab the files\n",
    "exams = [pdf for pdf in listdir(DATA_DIR) if isfile(join(DATA_DIR, pdf))]\n",
    "\n",
    "for exam in exams:\n",
    "    with open(join(DATA_DIR, exam)) as paper:\n",
    "        pages = slate.PDF(paper)\n",
    "        \n",
    "        print \"\\n----- Page 1 of %s -----\\n\" % exam\n",
    "        print pages[1]"
   ]
  }
 ],
 "metadata": {
  "kernelspec": {
   "display_name": "Python 2",
   "language": "python",
   "name": "python2"
  },
  "language_info": {
   "codemirror_mode": {
    "name": "ipython",
    "version": 2
   },
   "file_extension": ".py",
   "mimetype": "text/x-python",
   "name": "python",
   "nbconvert_exporter": "python",
   "pygments_lexer": "ipython2",
   "version": "2.7.10"
  }
 },
 "nbformat": 4,
 "nbformat_minor": 0
}

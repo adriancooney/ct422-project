{
 "cells": [
  {
   "cell_type": "markdown",
   "metadata": {},
   "source": [
    "# Text extraction from PDFs\n",
    "This is a doc to test the text extraction abilities of the Slate Python library."
   ]
  },
  {
   "cell_type": "code",
   "execution_count": 5,
   "metadata": {
    "collapsed": false
   },
   "outputs": [
    {
     "data": {
      "text/plain": [
       "'   Semester 1 Examinations 2014 / 2015  Exam Code(s) 4BCT1, 1EM1, 1SWB1, 4CS1 4th Year Computer Science and Information Technology 4th Year Computer Studies Erasmus Science Without Borders  Module Code(s) CT422  Module(s) Modern Information Management Paper No. External Examiner(s) Dr J. Cox Internal Examiner(s) Professor G. Lyons Dr M. Madden Dr Colm O\\xe2\\x80\\x99Riordan*   Instructions: Answer any 3 questions; all questions carry equal marks   Duration 2 hours No. of Pages 3 including cover page Discipline(s) Information Technology   Requirements None         PTO \\x0c'"
      ]
     },
     "execution_count": 5,
     "metadata": {},
     "output_type": "execute_result"
    }
   ],
   "source": [
    "import slate\n",
    "\n",
    "with open(\"../data/2014_2015_CT422_1_1_5.PDF\") as pdf:\n",
    "    doc = slate.PDF(pdf)\n",
    "    \n",
    "doc[0]"
   ]
  },
  {
   "cell_type": "markdown",
   "metadata": {},
   "source": [
    "Works a beaut.\n",
    "\n",
    "### Troubleshooting\n",
    "If you get an error along the lines of `Cannot import PDFDocument`, you have clashing versions of PDFMiner and Slate. To remedy this error, reinstall non-conflicting versions of the packages:\n",
    "\n",
    "    sudo pip install --upgrade --ignore-installed slate==0.3 pdfminer==20110515\n",
    "    \n",
    "Reference: https://github.com/dhcolumbia/opensyllabus/issues/14"
   ]
  }
 ],
 "metadata": {
  "kernelspec": {
   "display_name": "Python 2",
   "language": "python",
   "name": "python2"
  },
  "language_info": {
   "codemirror_mode": {
    "name": "ipython",
    "version": 2
   },
   "file_extension": ".py",
   "mimetype": "text/x-python",
   "name": "python",
   "nbconvert_exporter": "python",
   "pygments_lexer": "ipython2",
   "version": "2.7.10"
  }
 },
 "nbformat": 4,
 "nbformat_minor": 0
}

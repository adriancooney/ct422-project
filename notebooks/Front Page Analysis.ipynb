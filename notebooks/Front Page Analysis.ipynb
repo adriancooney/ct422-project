{
 "cells": [
  {
   "cell_type": "markdown",
   "metadata": {},
   "source": [
    "# Front Page Analysis\n",
    "Here we compare the front pages of some of out example exam papers."
   ]
  },
  {
   "cell_type": "code",
   "execution_count": 10,
   "metadata": {
    "collapsed": false
   },
   "outputs": [
    {
     "name": "stdout",
     "output_type": "stream",
     "text": [
      "\n",
      "----- Front page of 2014_2015_CH140_1_1_5.PDF -----\n",
      "\n",
      "  Semester 1 2014 / 2015  Exam Code(s)  Exam(s) 1st Engineering  Module Code(s) CH140 Module(s) Engineering Chemistry   External Examiner(s) Professor Tim Gallagher Internal Examiner(s) Professor P.V. Murphy *Dr. P. O’Leary  INSTRUCTIONS: Answer Four questions:  Question one must be attempted (-0.5 for incorrect answer) Three other questions must be attempted  Separate Answer Books are not required for each section.All questions carry 25 marks distributed as shown.    Leave the front page of the Answer Book blank and clearly list on it the numbers of the questions attempted.   Duration No. of Pages 2hrs 6 (including this front page) Department(s) Chemistry    Requirements None  All questions carry equal marks.  Molar volume at STP= 22.4 dm3, Avogadro’s Number 6.02 x 1023,  R=0.08206 dm3 atm/mol K   \f",
      "\n",
      "\n",
      "----- Front page of 2014_2015_CT420_1_1_2.PDF -----\n",
      "\n",
      "1    Semester 2 Examinations 2014/2015  Exam Code(s) 4BCT Exam(s) B.Sc. in Information Technology  Module Code(s) CT420 Module(s) Real-Time Systems  Paper No. 1 Repeat Paper N  External Examiner(s) Dr. John Power Internal Examiner(s) Prof. Gerard Lyons Dr. Michael Madden *Dr. Hugh Melvin *Dr. Michael Schukat   Instructions:   Answer Q1 and 1 other Q from section A. Answer 2 questions from section B.  All questions carry equal marks.   Duration  2 hours No. of Pages 8 Discipline Information Technology    Requirements: MCQ Release to Library:   Yes               No Handout  Statistical/ Log Tables  Cambridge Tables  Graph Paper  Log Graph Paper  Other Materials     X  \f",
      "\n",
      "\n",
      "----- Front page of 2014_2015_CT422_1_1_5.PDF -----\n",
      "\n",
      "   Semester 1 Examinations 2014 / 2015  Exam Code(s) 4BCT1, 1EM1, 1SWB1, 4CS1 4th Year Computer Science and Information Technology 4th Year Computer Studies Erasmus Science Without Borders  Module Code(s) CT422  Module(s) Modern Information Management Paper No. External Examiner(s) Dr J. Cox Internal Examiner(s) Professor G. Lyons Dr M. Madden Dr Colm O’Riordan*   Instructions: Answer any 3 questions; all questions carry equal marks   Duration 2 hours No. of Pages 3 including cover page Discipline(s) Information Technology   Requirements None         PTO \f",
      "\n"
     ]
    }
   ],
   "source": [
    "from os import listdir\n",
    "from os.path import isfile, join\n",
    "import slate\n",
    "\n",
    "DATA_DIR = \"../data\"\n",
    "\n",
    "# Grab the files\n",
    "exams = [pdf for pdf in listdir(DATA_DIR) if isfile(join(DATA_DIR, pdf))]\n",
    "\n",
    "for exam in exams:\n",
    "    with open(join(DATA_DIR, exam)) as paper:\n",
    "        pages = slate.PDF(paper)\n",
    "        \n",
    "        print \"\\n----- Front page of %s -----\\n\" % exam\n",
    "        print pages[0]"
   ]
  },
  {
   "cell_type": "markdown",
   "metadata": {},
   "source": [
    "This is unstructured, very inconsistent data. There is little pattern aside from the title and some fields (but no necessarily in the same order). Let's explore out options.\n",
    "\n",
    "* **Parsing Expression Grammar**\n",
    "\n",
    "  Trying to build up a parser for data this consistent would be a thankful job.\n",
    "  \n",
    "\n",
    "* **Simple field extraction**\n",
    "  \n",
    "  A method I didn't personally explore but could work potentially for some simple data extraction. It would work by     listing the fields that could potentially appear in the front page and extracting the data after them until the next   field is reached.\n",
    " \n",
    " \n",
    "* **Machine Learning**\n",
    "  \n",
    "  Build a algorithm that we train to recognize some fields and enable it to pick the fields there after. This would be   some weird imalagamation of Information Retrieval and Machine Learning fields."
   ]
  }
 ],
 "metadata": {
  "kernelspec": {
   "display_name": "Python 2",
   "language": "python",
   "name": "python2"
  },
  "language_info": {
   "codemirror_mode": {
    "name": "ipython",
    "version": 2
   },
   "file_extension": ".py",
   "mimetype": "text/x-python",
   "name": "python",
   "nbconvert_exporter": "python",
   "pygments_lexer": "ipython2",
   "version": "2.7.10"
  }
 },
 "nbformat": 4,
 "nbformat_minor": 0
}
